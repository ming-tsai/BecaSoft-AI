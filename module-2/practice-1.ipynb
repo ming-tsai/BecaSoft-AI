{
    "cells": [
        {
            "cell_type": "markdown",
            "metadata": {},
            "source": [
                "# Practice one\n",
                "This a practice one of [Ing. Felipe Llaugel](https://do.linkedin.com/in/felipe-llaugel-b9238634)'s cource with Jupyter notebook"
            ]
        },
        {
            "cell_type": "markdown",
            "metadata": {},
            "source": [
                "## Ejercicio 1\n",
                "Utiliza la función print y imprime tu nombre y tu edad uno debajo del otro utilizando uno de los métodos de salto de línea.\n",
                "\n"
            ]
        },
        {
            "cell_type": "code",
            "execution_count": 1,
            "metadata": {
                "tags": []
            },
            "outputs": [
                {
                    "output_type": "stream",
                    "name": "stdout",
                    "text": "Ming Tsai \n 23\n"
                }
            ],
            "source": [
                "name = \"Ming Tsai\"\n",
                "age = 23\n",
                "print(name, '\\n', age)"
            ]
        },
        {
            "cell_type": "markdown",
            "metadata": {},
            "source": [
                "## Ejercicio 2: Que tipo de dato es:\n",
                "- a) 3\n",
                "- b)  True\n",
                "- c)  17.8\n",
                "- d)   “Hola”"
            ]
        },
        {
            "cell_type": "code",
            "execution_count": 2,
            "metadata": {
                "tags": []
            },
            "outputs": [
                {
                    "output_type": "stream",
                    "name": "stdout",
                    "text": "<class 'int'>\n<class 'bool'>\n<class 'float'>\n<class 'str'>\n"
                }
            ],
            "source": [
                "a = type(3)\n",
                "b = type(True)\n",
                "c = type(17.8)\n",
                "d = type(\"Hola\")\n",
                "print(a)\n",
                "print(b)\n",
                "print(c)\n",
                "print(d)"
            ]
        },
        {
            "cell_type": "markdown",
            "metadata": {},
            "source": [
                "## Ejercicio 3: Cual es resultado de las siguientes comparaciones:\n",
                "- `True AND False`\n",
                "- `NOT False`\n",
                "- `True OR True`\n"
            ]
        },
        {
            "cell_type": "code",
            "execution_count": 3,
            "metadata": {
                "tags": []
            },
            "outputs": [
                {
                    "output_type": "stream",
                    "name": "stdout",
                    "text": "False\nTrue\nTrue\n"
                }
            ],
            "source": [
                "print(True and False)\n",
                "print(not False)\n",
                "print(True or True)"
            ]
        },
        {
            "cell_type": "markdown",
            "metadata": {},
            "source": [
                "## Ejercicio 4: Identifica cual es una lista, una tupla o un diccionario.\n",
                "- `y = {‘fruta’: ‘manzana’, ‘color’: ‘verde’, ‘tamaño’: ‘mediano’}`\n",
                "- `z = [“Hola”, 29, 3.2, False]`\n",
                "- `x = (3, True, 8.2, [3,2])`\n"
            ]
        },
        {
            "cell_type": "code",
            "execution_count": 4,
            "metadata": {
                "tags": []
            },
            "outputs": [
                {
                    "output_type": "stream",
                    "name": "stdout",
                    "text": "<class 'dict'>\n<class 'list'>\n<class 'tuple'>\n"
                }
            ],
            "source": [
                "y = {'fruta': 'manzana', 'color': 'verde', 'tamaño': 'mediano'}\n",
                "z = [\"Hola\", 29, 3.2, False]\n",
                "x = (3, True, 8.2, [3,2])\n",
                "print(type(y))\n",
                "print(type(z))\n",
                "print(type(x))"
            ]
        },
        {
            "cell_type": "markdown",
            "metadata": {},
            "source": [
                "## Ejercicio 5: Indica cual es el código para cambiar el número 3.2 en \n",
                "`z = [“Hola”, 29, 3.2, False]` por 5.2.\n"
            ]
        },
        {
            "cell_type": "code",
            "execution_count": 5,
            "metadata": {
                "tags": []
            },
            "outputs": [
                {
                    "output_type": "stream",
                    "name": "stdout",
                    "text": "['Hola', 29, 5.2, False]\n"
                }
            ],
            "source": [
                "z = [\"Hola\", 29, 3.2, False]\n",
                "z[z.index(3.2)] = 5.2\n",
                "print(z)"
            ]
        },
        {
            "cell_type": "markdown",
            "metadata": {},
            "source": [
                "## Ejercicio 6: Escribe una línea de código utilizando la función `zip()` para crear un diccionario.\n"
            ]
        },
        {
            "cell_type": "code",
            "execution_count": 6,
            "metadata": {
                "tags": []
            },
            "outputs": [
                {
                    "output_type": "stream",
                    "name": "stdout",
                    "text": "{'q': 1, 'w': 2, 'e': 3, 'r': 4, 't': 5}\n"
                }
            ],
            "source": [
                "dictz = dict(zip('qwerty', [1,2,3,4,5]))\n",
                "print(dictz)"
            ]
        },
        {
            "cell_type": "markdown",
            "metadata": {},
            "source": [
                "## Ejercicio 7: Evalúa cual es el resultado de las siguientes expresiones.\n",
                "- `True == False`\n",
                "- `13 > 2`\n",
                "- `\"Casa\" != 'Caza'`\n",
                "- `34 <= 58.3`\n"
            ]
        },
        {
            "cell_type": "code",
            "execution_count": 7,
            "metadata": {
                "tags": []
            },
            "outputs": [
                {
                    "output_type": "stream",
                    "name": "stdout",
                    "text": "False\nTrue\nTrue\nTrue\n"
                }
            ],
            "source": [
                "print(True == False)\n",
                "print(13 > 2)\n",
                "print(\"Casa\" != 'Caza')\n",
                "print(34 <= 58.3)"
            ]
        },
        {
            "cell_type": "markdown",
            "metadata": {},
            "source": [
                "## Ejercicio 8: Escribe una sentencia `for` que itere sobre la palabra \"curso\" e imprima cada letra por separado.\n"
            ]
        },
        {
            "cell_type": "code",
            "execution_count": 8,
            "metadata": {
                "tags": []
            },
            "outputs": [
                {
                    "output_type": "stream",
                    "name": "stdout",
                    "text": "C\nu\nr\ns\no\n"
                }
            ],
            "source": [
                "for char in \"Curso\":\n",
                "    print(char);"
            ]
        },
        {
            "cell_type": "markdown",
            "metadata": {},
            "source": [
                "## Ejercicio 9: Escribe una sentencia while que mientras el número iterado sea menor que `(<) 10` imprima cada número.\n"
            ]
        },
        {
            "cell_type": "code",
            "execution_count": 9,
            "metadata": {
                "tags": []
            },
            "outputs": [
                {
                    "output_type": "stream",
                    "name": "stdout",
                    "text": "0\n1\n2\n3\n4\n5\n6\n7\n8\n9\n"
                }
            ],
            "source": [
                "number = 0\n",
                "while number < 10:\n",
                "    print(number)\n",
                "    number = number + 1"
            ]
        },
        {
            "cell_type": "markdown",
            "metadata": {},
            "source": [
                "## Ejercicio 10: Escribe una función que multiplique dos números.\n"
            ]
        },
        {
            "cell_type": "code",
            "execution_count": 10,
            "metadata": {
                "tags": []
            },
            "outputs": [
                {
                    "output_type": "stream",
                    "name": "stdout",
                    "text": "12\n"
                }
            ],
            "source": [
                "def multiply(a, b):\n",
                "    return a * b\n",
                "\n",
                "f = multiply(3, 4)\n",
                "print(f)"
            ]
        },
        {
            "cell_type": "code",
            "execution_count": null,
            "metadata": {},
            "outputs": [],
            "source": []
        }
    ],
    "metadata": {
        "kernelspec": {
            "name": "python_defaultSpec_1594478641328",
            "display_name": "Python 3.7.5 64-bit",
            "language": "python"
        },
        "language_info": {
            "name": "python",
            "version": "3.6.10",
            "mimetype": "text/x-python",
            "codemirror_mode": {
                "name": "ipython",
                "version": 3
            },
            "pygments_lexer": "ipython3",
            "nbconvert_exporter": "python",
            "file_extension": ".py"
        }
    },
    "nbformat": 4,
    "nbformat_minor": 2
}